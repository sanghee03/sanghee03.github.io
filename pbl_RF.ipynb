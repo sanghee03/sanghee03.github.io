{
  "nbformat": 4,
  "nbformat_minor": 0,
  "metadata": {
    "colab": {
      "name": "pbl_RF.ipynb",
      "provenance": [],
      "collapsed_sections": [],
      "authorship_tag": "ABX9TyPxY6b8gDYNRTblQz6l3CdD",
      "include_colab_link": true
    },
    "kernelspec": {
      "name": "python3",
      "display_name": "Python 3"
    }
  },
  "cells": [
    {
      "cell_type": "markdown",
      "metadata": {
        "id": "view-in-github",
        "colab_type": "text"
      },
      "source": [
        "<a href=\"https://colab.research.google.com/github/sanghee03/sanghee03.github.io/blob/master/pbl_RF.ipynb\" target=\"_parent\"><img src=\"https://colab.research.google.com/assets/colab-badge.svg\" alt=\"Open In Colab\"/></a>"
      ]
    },
    {
      "cell_type": "code",
      "metadata": {
        "id": "bcKbJYOs-DZZ",
        "colab_type": "code",
        "colab": {
          "resources": {
            "http://localhost:8080/nbextensions/google.colab/files.js": {
              "data": "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",
              "ok": true,
              "headers": [
                [
                  "content-type",
                  "application/javascript"
                ]
              ],
              "status": 200,
              "status_text": ""
            }
          },
          "base_uri": "https://localhost:8080/",
          "height": 41
        },
        "outputId": "375623db-8c43-4d5e-a6a7-8cc4215103b0"
      },
      "source": [
        "from google.colab import files\n",
        "upload = files.upload()"
      ],
      "execution_count": null,
      "outputs": [
        {
          "output_type": "display_data",
          "data": {
            "text/html": [
              "\n",
              "     <input type=\"file\" id=\"files-d45f07c6-e145-4928-9365-7120f4acf7ae\" name=\"files[]\" multiple disabled\n",
              "        style=\"border:none\" />\n",
              "     <output id=\"result-d45f07c6-e145-4928-9365-7120f4acf7ae\">\n",
              "      Upload widget is only available when the cell has been executed in the\n",
              "      current browser session. Please rerun this cell to enable.\n",
              "      </output>\n",
              "      <script src=\"/nbextensions/google.colab/files.js\"></script> "
            ],
            "text/plain": [
              "<IPython.core.display.HTML object>"
            ]
          },
          "metadata": {
            "tags": []
          }
        }
      ]
    },
    {
      "cell_type": "code",
      "metadata": {
        "id": "Trg__jz7yEy8",
        "colab_type": "code",
        "colab": {}
      },
      "source": [
        "from sklearn.ensemble import RandomForestClassifier"
      ],
      "execution_count": null,
      "outputs": []
    },
    {
      "cell_type": "code",
      "metadata": {
        "id": "JHpyu60OyM2X",
        "colab_type": "code",
        "colab": {}
      },
      "source": [
        "try:\n",
        "  # %tensorflow_version은 코랩에서만 사용할 수 있습니다.\n",
        "  %tensorflow_version 2.x\n",
        "except Exception:\n",
        "  pas"
      ],
      "execution_count": null,
      "outputs": []
    },
    {
      "cell_type": "code",
      "metadata": {
        "id": "yk9OcInRyOlf",
        "colab_type": "code",
        "colab": {}
      },
      "source": [
        "from __future__ import absolute_import, division, print_function, unicode_literals\n",
        "import functools\n",
        "\n",
        "import numpy as np\n",
        "import tensorflow as tf"
      ],
      "execution_count": null,
      "outputs": []
    },
    {
      "cell_type": "code",
      "metadata": {
        "id": "c5M7s9i4yQmH",
        "colab_type": "code",
        "colab": {}
      },
      "source": [
        "# numpy 값을 읽기 쉽게 표시하도록 만듭니다.\n",
        "np.set_printoptions(precision=3, suppress=True)"
      ],
      "execution_count": null,
      "outputs": []
    },
    {
      "cell_type": "code",
      "metadata": {
        "id": "FNrWXoNXySRW",
        "colab_type": "code",
        "colab": {
          "base_uri": "https://localhost:8080/",
          "height": 35
        },
        "outputId": "a1c3ec28-b3be-4975-e2fa-ccf9fd371743"
      },
      "source": [
        "from google.colab import drive\n",
        "drive.mount('/gdrive', force_remount=True)"
      ],
      "execution_count": null,
      "outputs": [
        {
          "output_type": "stream",
          "text": [
            "Mounted at /gdrive\n"
          ],
          "name": "stdout"
        }
      ]
    },
    {
      "cell_type": "code",
      "metadata": {
        "id": "UVzbg0iHyW7u",
        "colab_type": "code",
        "colab": {
          "base_uri": "https://localhost:8080/",
          "height": 593
        },
        "outputId": "59f03f61-998a-4373-8942-2b0c6aec698d"
      },
      "source": [
        "!ls \"/gdrive/My Drive\""
      ],
      "execution_count": null,
      "outputs": [
        {
          "output_type": "stream",
          "text": [
            "'블록체인 연구'\n",
            " 커플다이어리\n",
            " 디지털포렌식\n",
            "'제01장 자바소개(강의) _ 필기.pdf'\n",
            "'제02장 자바프로그래밍기초(강의).pdf'\n",
            "'제03장 선택과반복(강의).pdf'\n",
            "'제04장 배열(강의)-1필기.pdf'\n",
            "'제05장 클래스, 객체, 메소드(강의).pdf'\n",
            "'제06장 클래스와 메소드 심층연구(강의).pdf'\n",
            "'제07장 상속(강의)-1 (1).pdf'\n",
            "'제07장 상속(강의)-1.pdf'\n",
            "'제09장 인터페이스, 람다식, 패키지(강의)필기.pdf'\n",
            "'[11주] 오프라인 문제 [라우팅] (1).hwp'\n",
            "'[11주] 오프라인 문제 [라우팅].hwp'\n",
            "'[13주] 스위치_무선통신 [오프라인]_필기.pdf'\n",
            "'제15장 제네릭과 컬렉션(강의)필기.pdf'\n",
            "'제17장 파일입출력(강의).pdf'\n",
            "'제19장 데이터베이스 프로그래밍(강의)-1.pdf'\n",
            "'제19장 데이터베이스 프로그래밍(강의)-1필기.pdf'\n",
            "'제19장 데이터베이스 프로그래밍(강의)-1.pptx'\n",
            " 1.mirai.ack.csv\n",
            " 20190601_181905.png\n",
            " 4.mirai.ack.csv\n",
            " 4.mirai.udp.csv\n",
            "'Colab Notebooks'\n",
            " DDoSdata.csv\n",
            " DDoSdata.csv.zip\n",
            "'스마트폰 중독 자가진단.gform'\n",
            " hwp00001.png\n",
            " hwp00002.png\n",
            " hwp00003.png\n",
            " SWU_FINAL_PROJECT_2017111348_박상희.zip\n"
          ],
          "name": "stdout"
        }
      ]
    },
    {
      "cell_type": "code",
      "metadata": {
        "id": "fmTAGnx2yedq",
        "colab_type": "code",
        "colab": {}
      },
      "source": [
        "import numpy as np \n",
        "DDOS_DATA_URL = \"https://drive.google.com/file/d/1ZsINAzfaBbS6N2SGBcWGtTT5okeC1jkM/view?usp=sharing\"\n",
        "\n",
        "DDOS_file_path = tf.keras.utils.get_file(\"DDoSdata.csv\", DDOS_DATA_URL)"
      ],
      "execution_count": null,
      "outputs": []
    },
    {
      "cell_type": "code",
      "metadata": {
        "id": "5Y61D2AYyhpi",
        "colab_type": "code",
        "colab": {}
      },
      "source": [
        "# numpy 값을 읽기 쉽게 표시하도록 만듭니다.\n",
        "np.set_printoptions(precision=3, suppress=True) "
      ],
      "execution_count": null,
      "outputs": []
    },
    {
      "cell_type": "markdown",
      "metadata": {
        "id": "U6vOA4h4xvHz",
        "colab_type": "text"
      },
      "source": [
        ""
      ]
    },
    {
      "cell_type": "code",
      "metadata": {
        "id": "EKwn3TDWylbq",
        "colab_type": "code",
        "colab": {
          "base_uri": "https://localhost:8080/",
          "height": 217
        },
        "outputId": "f4da1f8b-b289-40c1-fe0b-1c59bdb943a6"
      },
      "source": [
        "!head {DDOS_file_path}"
      ],
      "execution_count": null,
      "outputs": [
        {
          "output_type": "stream",
          "text": [
            "\n",
            "<!DOCTYPE html>\n",
            "<html lang=\"en\">\n",
            "  <head>\n",
            "  <meta charset=\"utf-8\">\n",
            "  <meta content=\"width=300, initial-scale=1\" name=\"viewport\">\n",
            "  <meta name=\"description\" content=\"Google Drive is a free way to keep your files backed up and easy to reach from any phone, tablet, or computer. Start with 15GB of Google storage – free.\">\n",
            "  <meta name=\"google-site-verification\" content=\"LrdTUW9psUAMbh4Ia074-BPEVmcpBxF6Gwf0MSgQXZs\">\n",
            "  <title>Meet Google Drive – One place for all your files</title>\n",
            "  <style>\n"
          ],
          "name": "stdout"
        }
      ]
    },
    {
      "cell_type": "code",
      "metadata": {
        "id": "2BC14uofODg5",
        "colab_type": "code",
        "colab": {}
      },
      "source": [
        "import numpy as np\n",
        "import pandas as pd\n",
        "import matplotlib.pyplot as plt\n",
        "\n",
        "from sklearn.model_selection import train_test_split\n",
        "from sklearn.preprocessing import LabelEncoder, OneHotEncoder\n",
        "from sklearn.metrics import confusion_matrix\n",
        "from sklearn.metrics import accuracy_score, f1_score\n",
        "\n",
        "import warnings\n",
        "warnings.filterwarnings(\"ignore\", category=DeprecationWarning)"
      ],
      "execution_count": null,
      "outputs": []
    },
    {
      "cell_type": "code",
      "metadata": {
        "id": "7fdvabX7ym_M",
        "colab_type": "code",
        "colab": {
          "base_uri": "https://localhost:8080/",
          "height": 73
        },
        "outputId": "084956e8-078c-4b93-c5d6-64bd124d3339"
      },
      "source": [
        "import pandas as pd\n",
        "dataset = pd.read_csv('DDoSdata.csv')"
      ],
      "execution_count": null,
      "outputs": [
        {
          "output_type": "stream",
          "text": [
            "/usr/local/lib/python3.6/dist-packages/IPython/core/interactiveshell.py:2718: DtypeWarning: Columns (8,10) have mixed types.Specify dtype option on import or set low_memory=False.\n",
            "  interactivity=interactivity, compiler=compiler, result=result)\n"
          ],
          "name": "stderr"
        }
      ]
    },
    {
      "cell_type": "code",
      "metadata": {
        "id": "hOG4pcONNjBI",
        "colab_type": "code",
        "colab": {}
      },
      "source": [
        "# 비어있는 열 이름 numer 로 설정해주기\n",
        "dataset = dataset.rename(columns={'Unnamed: 0': 'number'})"
      ],
      "execution_count": null,
      "outputs": []
    },
    {
      "cell_type": "code",
      "metadata": {
        "id": "FYL8-iuHgpZq",
        "colab_type": "code",
        "colab": {}
      },
      "source": [
        "# number열, saddr, daddr 열 삭제하기 \n",
        "del dataset[\"number\"]"
      ],
      "execution_count": null,
      "outputs": []
    },
    {
      "cell_type": "code",
      "metadata": {
        "id": "8HOYGfhKhrcT",
        "colab_type": "code",
        "colab": {}
      },
      "source": [
        "# number열, saddr, daddr 열 삭제하기 \n",
        "del dataset[\"saddr\"]"
      ],
      "execution_count": null,
      "outputs": []
    },
    {
      "cell_type": "code",
      "metadata": {
        "id": "y1-bUo9QhtrP",
        "colab_type": "code",
        "colab": {}
      },
      "source": [
        "# number열, saddr, daddr 열 삭제하기 \n",
        "del dataset[\"daddr\"]"
      ],
      "execution_count": null,
      "outputs": []
    },
    {
      "cell_type": "code",
      "metadata": {
        "id": "zAFld4X5gwBG",
        "colab_type": "code",
        "colab": {}
      },
      "source": [
        "# number열, saddr, daddr, sport, dport 열 삭제하기 # d일단 보류 \n",
        "del dataset[\"sport\"]"
      ],
      "execution_count": null,
      "outputs": []
    },
    {
      "cell_type": "code",
      "metadata": {
        "id": "KpvStDF6g1ME",
        "colab_type": "code",
        "colab": {}
      },
      "source": [
        "# number열, saddr, daddr, sport, dport 열 삭제하기 \n",
        "del dataset[\"dport\"]"
      ],
      "execution_count": null,
      "outputs": []
    },
    {
      "cell_type": "code",
      "metadata": {
        "id": "kNEuT1dSiNWO",
        "colab_type": "code",
        "colab": {
          "base_uri": "https://localhost:8080/",
          "height": 224
        },
        "outputId": "94159a17-db2c-4509-cc26-4822155936af"
      },
      "source": [
        "dataset.head()"
      ],
      "execution_count": null,
      "outputs": [
        {
          "output_type": "execute_result",
          "data": {
            "text/html": [
              "<div>\n",
              "<style scoped>\n",
              "    .dataframe tbody tr th:only-of-type {\n",
              "        vertical-align: middle;\n",
              "    }\n",
              "\n",
              "    .dataframe tbody tr th {\n",
              "        vertical-align: top;\n",
              "    }\n",
              "\n",
              "    .dataframe thead th {\n",
              "        text-align: right;\n",
              "    }\n",
              "</style>\n",
              "<table border=\"1\" class=\"dataframe\">\n",
              "  <thead>\n",
              "    <tr style=\"text-align: right;\">\n",
              "      <th></th>\n",
              "      <th>pkSeqID</th>\n",
              "      <th>stime</th>\n",
              "      <th>flgs</th>\n",
              "      <th>flgs_number</th>\n",
              "      <th>proto</th>\n",
              "      <th>proto_number</th>\n",
              "      <th>sport</th>\n",
              "      <th>dport</th>\n",
              "      <th>pkts</th>\n",
              "      <th>bytes</th>\n",
              "      <th>state</th>\n",
              "      <th>state_number</th>\n",
              "      <th>ltime</th>\n",
              "      <th>seq</th>\n",
              "      <th>dur</th>\n",
              "      <th>mean</th>\n",
              "      <th>stddev</th>\n",
              "      <th>sum</th>\n",
              "      <th>min</th>\n",
              "      <th>max</th>\n",
              "      <th>spkts</th>\n",
              "      <th>dpkts</th>\n",
              "      <th>sbytes</th>\n",
              "      <th>dbytes</th>\n",
              "      <th>rate</th>\n",
              "      <th>srate</th>\n",
              "      <th>drate</th>\n",
              "      <th>TnBPSrcIP</th>\n",
              "      <th>TnBPDstIP</th>\n",
              "      <th>TnP_PSrcIP</th>\n",
              "      <th>TnP_PDstIP</th>\n",
              "      <th>TnP_PerProto</th>\n",
              "      <th>TnP_Per_Dport</th>\n",
              "      <th>AR_P_Proto_P_SrcIP</th>\n",
              "      <th>AR_P_Proto_P_DstIP</th>\n",
              "      <th>N_IN_Conn_P_DstIP</th>\n",
              "      <th>N_IN_Conn_P_SrcIP</th>\n",
              "      <th>AR_P_Proto_P_Sport</th>\n",
              "      <th>AR_P_Proto_P_Dport</th>\n",
              "      <th>Pkts_P_State_P_Protocol_P_DestIP</th>\n",
              "      <th>Pkts_P_State_P_Protocol_P_SrcIP</th>\n",
              "      <th>attack</th>\n",
              "      <th>category</th>\n",
              "      <th>subcategory</th>\n",
              "    </tr>\n",
              "  </thead>\n",
              "  <tbody>\n",
              "    <tr>\n",
              "      <th>0</th>\n",
              "      <td>1650261</td>\n",
              "      <td>1.528103e+09</td>\n",
              "      <td>e</td>\n",
              "      <td>1</td>\n",
              "      <td>tcp</td>\n",
              "      <td>1</td>\n",
              "      <td>54110</td>\n",
              "      <td>80</td>\n",
              "      <td>10</td>\n",
              "      <td>1729</td>\n",
              "      <td>RST</td>\n",
              "      <td>1</td>\n",
              "      <td>1.528103e+09</td>\n",
              "      <td>20</td>\n",
              "      <td>6.406424</td>\n",
              "      <td>0.679473</td>\n",
              "      <td>0.544126</td>\n",
              "      <td>1.358946</td>\n",
              "      <td>0.135347</td>\n",
              "      <td>1.223599</td>\n",
              "      <td>6</td>\n",
              "      <td>4</td>\n",
              "      <td>963</td>\n",
              "      <td>766</td>\n",
              "      <td>1.404840</td>\n",
              "      <td>0.780467</td>\n",
              "      <td>0.468280</td>\n",
              "      <td>56864</td>\n",
              "      <td>59969</td>\n",
              "      <td>308</td>\n",
              "      <td>328</td>\n",
              "      <td>328</td>\n",
              "      <td>700</td>\n",
              "      <td>1.26889</td>\n",
              "      <td>1.21662</td>\n",
              "      <td>40</td>\n",
              "      <td>38</td>\n",
              "      <td>1.56093</td>\n",
              "      <td>1.21662</td>\n",
              "      <td>328</td>\n",
              "      <td>308</td>\n",
              "      <td>1</td>\n",
              "      <td>DDoS</td>\n",
              "      <td>HTTP</td>\n",
              "    </tr>\n",
              "    <tr>\n",
              "      <th>1</th>\n",
              "      <td>1650262</td>\n",
              "      <td>1.528103e+09</td>\n",
              "      <td>e</td>\n",
              "      <td>1</td>\n",
              "      <td>tcp</td>\n",
              "      <td>1</td>\n",
              "      <td>54112</td>\n",
              "      <td>80</td>\n",
              "      <td>10</td>\n",
              "      <td>1604</td>\n",
              "      <td>RST</td>\n",
              "      <td>1</td>\n",
              "      <td>1.528103e+09</td>\n",
              "      <td>21</td>\n",
              "      <td>6.405851</td>\n",
              "      <td>0.679572</td>\n",
              "      <td>0.544197</td>\n",
              "      <td>1.359144</td>\n",
              "      <td>0.135375</td>\n",
              "      <td>1.223769</td>\n",
              "      <td>6</td>\n",
              "      <td>4</td>\n",
              "      <td>838</td>\n",
              "      <td>766</td>\n",
              "      <td>1.404966</td>\n",
              "      <td>0.780536</td>\n",
              "      <td>0.468322</td>\n",
              "      <td>56864</td>\n",
              "      <td>59969</td>\n",
              "      <td>308</td>\n",
              "      <td>328</td>\n",
              "      <td>328</td>\n",
              "      <td>700</td>\n",
              "      <td>1.26889</td>\n",
              "      <td>1.21662</td>\n",
              "      <td>40</td>\n",
              "      <td>38</td>\n",
              "      <td>1.56107</td>\n",
              "      <td>1.21662</td>\n",
              "      <td>328</td>\n",
              "      <td>308</td>\n",
              "      <td>1</td>\n",
              "      <td>DDoS</td>\n",
              "      <td>HTTP</td>\n",
              "    </tr>\n",
              "    <tr>\n",
              "      <th>2</th>\n",
              "      <td>1650263</td>\n",
              "      <td>1.528103e+09</td>\n",
              "      <td>e</td>\n",
              "      <td>1</td>\n",
              "      <td>tcp</td>\n",
              "      <td>1</td>\n",
              "      <td>54114</td>\n",
              "      <td>80</td>\n",
              "      <td>8</td>\n",
              "      <td>1708</td>\n",
              "      <td>RST</td>\n",
              "      <td>1</td>\n",
              "      <td>1.528103e+09</td>\n",
              "      <td>22</td>\n",
              "      <td>6.401038</td>\n",
              "      <td>1.110847</td>\n",
              "      <td>1.110847</td>\n",
              "      <td>2.221694</td>\n",
              "      <td>0.000000</td>\n",
              "      <td>2.221694</td>\n",
              "      <td>5</td>\n",
              "      <td>3</td>\n",
              "      <td>1008</td>\n",
              "      <td>700</td>\n",
              "      <td>1.093573</td>\n",
              "      <td>0.624899</td>\n",
              "      <td>0.900214</td>\n",
              "      <td>56864</td>\n",
              "      <td>59969</td>\n",
              "      <td>308</td>\n",
              "      <td>328</td>\n",
              "      <td>328</td>\n",
              "      <td>700</td>\n",
              "      <td>1.26889</td>\n",
              "      <td>1.21662</td>\n",
              "      <td>40</td>\n",
              "      <td>38</td>\n",
              "      <td>1.24980</td>\n",
              "      <td>1.21662</td>\n",
              "      <td>328</td>\n",
              "      <td>308</td>\n",
              "      <td>1</td>\n",
              "      <td>DDoS</td>\n",
              "      <td>HTTP</td>\n",
              "    </tr>\n",
              "    <tr>\n",
              "      <th>3</th>\n",
              "      <td>1650264</td>\n",
              "      <td>1.528103e+09</td>\n",
              "      <td>e</td>\n",
              "      <td>1</td>\n",
              "      <td>tcp</td>\n",
              "      <td>1</td>\n",
              "      <td>54116</td>\n",
              "      <td>80</td>\n",
              "      <td>8</td>\n",
              "      <td>1462</td>\n",
              "      <td>RST</td>\n",
              "      <td>1</td>\n",
              "      <td>1.528103e+09</td>\n",
              "      <td>23</td>\n",
              "      <td>6.400703</td>\n",
              "      <td>1.113328</td>\n",
              "      <td>1.113328</td>\n",
              "      <td>2.226655</td>\n",
              "      <td>0.000000</td>\n",
              "      <td>2.226655</td>\n",
              "      <td>5</td>\n",
              "      <td>3</td>\n",
              "      <td>762</td>\n",
              "      <td>700</td>\n",
              "      <td>1.093630</td>\n",
              "      <td>0.624931</td>\n",
              "      <td>0.898208</td>\n",
              "      <td>56864</td>\n",
              "      <td>59969</td>\n",
              "      <td>308</td>\n",
              "      <td>328</td>\n",
              "      <td>328</td>\n",
              "      <td>700</td>\n",
              "      <td>1.26889</td>\n",
              "      <td>1.21662</td>\n",
              "      <td>40</td>\n",
              "      <td>38</td>\n",
              "      <td>1.24986</td>\n",
              "      <td>1.21662</td>\n",
              "      <td>328</td>\n",
              "      <td>308</td>\n",
              "      <td>1</td>\n",
              "      <td>DDoS</td>\n",
              "      <td>HTTP</td>\n",
              "    </tr>\n",
              "    <tr>\n",
              "      <th>4</th>\n",
              "      <td>1650265</td>\n",
              "      <td>1.528103e+09</td>\n",
              "      <td>e</td>\n",
              "      <td>1</td>\n",
              "      <td>tcp</td>\n",
              "      <td>1</td>\n",
              "      <td>54118</td>\n",
              "      <td>80</td>\n",
              "      <td>8</td>\n",
              "      <td>1296</td>\n",
              "      <td>RST</td>\n",
              "      <td>1</td>\n",
              "      <td>1.528103e+09</td>\n",
              "      <td>24</td>\n",
              "      <td>6.400472</td>\n",
              "      <td>1.113098</td>\n",
              "      <td>1.113098</td>\n",
              "      <td>2.226195</td>\n",
              "      <td>0.000000</td>\n",
              "      <td>2.226195</td>\n",
              "      <td>5</td>\n",
              "      <td>3</td>\n",
              "      <td>596</td>\n",
              "      <td>700</td>\n",
              "      <td>1.093669</td>\n",
              "      <td>0.624954</td>\n",
              "      <td>0.898394</td>\n",
              "      <td>56864</td>\n",
              "      <td>59969</td>\n",
              "      <td>308</td>\n",
              "      <td>328</td>\n",
              "      <td>328</td>\n",
              "      <td>700</td>\n",
              "      <td>1.26889</td>\n",
              "      <td>1.21662</td>\n",
              "      <td>40</td>\n",
              "      <td>38</td>\n",
              "      <td>1.24991</td>\n",
              "      <td>1.21662</td>\n",
              "      <td>328</td>\n",
              "      <td>308</td>\n",
              "      <td>1</td>\n",
              "      <td>DDoS</td>\n",
              "      <td>HTTP</td>\n",
              "    </tr>\n",
              "  </tbody>\n",
              "</table>\n",
              "</div>"
            ],
            "text/plain": [
              "   pkSeqID         stime flgs  ...  attack category  subcategory\n",
              "0  1650261  1.528103e+09    e  ...       1     DDoS         HTTP\n",
              "1  1650262  1.528103e+09    e  ...       1     DDoS         HTTP\n",
              "2  1650263  1.528103e+09    e  ...       1     DDoS         HTTP\n",
              "3  1650264  1.528103e+09    e  ...       1     DDoS         HTTP\n",
              "4  1650265  1.528103e+09    e  ...       1     DDoS         HTTP\n",
              "\n",
              "[5 rows x 44 columns]"
            ]
          },
          "metadata": {
            "tags": []
          },
          "execution_count": 28
        }
      ]
    },
    {
      "cell_type": "code",
      "metadata": {
        "id": "IPZxeq7rQtkI",
        "colab_type": "code",
        "colab": {}
      },
      "source": [
        "lenDataset = len(dataset.columns)\n",
        "\n",
        "yColNames = []\n",
        "\n",
        "dataset.columns = ['pkSeqID',\t'stime', 'flgs',\t'flgs_number',\t'proto',\t'proto_number',\t'sport','dport', 'pkts',\t\n",
        "                   'bytes',\t'state',\t'state_number',\t'ltime',\t'seq',\t'dur',\t'mean',\t'stddev',\t'sum',\t'min',\t'max',\t'spkts',\t'dpkts',\t\n",
        "                    'sbytes',\t'dbytes',\t'rate',\t'srate',\t'drate',\t'TnBPSrcIP',\t'TnBPDstIP',\t'TnP_PSrcIP',\t'TnP_PDstIP',\t'TnP_PerProto',\t\n",
        "                    'TnP_Per_Dport',\t'AR_P_Proto_P_SrcIP',\t'AR_P_Proto_P_DstIP',\t'N_IN_Conn_P_DstIP',\t'N_IN_Conn_P_SrcIP',\t\n",
        "                    'AR_P_Proto_P_Sport',\t'AR_P_Proto_P_Dport',\t'Pkts_P_State_P_Protocol_P_DestIP',\t\n",
        "                    'Pkts_P_State_P_Protocol_P_SrcIP',\t'attack', 'category',\t'subcategory']\n",
        "\n",
        "xColNames = list(dataset.columns[:lenDataset-1])\n",
        "yColNames.append(dataset.columns[lenDataset-1])"
      ],
      "execution_count": null,
      "outputs": []
    },
    {
      "cell_type": "code",
      "metadata": {
        "id": "Xqd-mOa0yopj",
        "colab_type": "code",
        "colab": {
          "base_uri": "https://localhost:8080/",
          "height": 224
        },
        "outputId": "4cd4afd6-c0d3-456b-da75-af5350b8cad9"
      },
      "source": [
        "dataset.head()"
      ],
      "execution_count": null,
      "outputs": [
        {
          "output_type": "execute_result",
          "data": {
            "text/html": [
              "<div>\n",
              "<style scoped>\n",
              "    .dataframe tbody tr th:only-of-type {\n",
              "        vertical-align: middle;\n",
              "    }\n",
              "\n",
              "    .dataframe tbody tr th {\n",
              "        vertical-align: top;\n",
              "    }\n",
              "\n",
              "    .dataframe thead th {\n",
              "        text-align: right;\n",
              "    }\n",
              "</style>\n",
              "<table border=\"1\" class=\"dataframe\">\n",
              "  <thead>\n",
              "    <tr style=\"text-align: right;\">\n",
              "      <th></th>\n",
              "      <th>pkSeqID</th>\n",
              "      <th>stime</th>\n",
              "      <th>flgs</th>\n",
              "      <th>flgs_number</th>\n",
              "      <th>proto</th>\n",
              "      <th>proto_number</th>\n",
              "      <th>sport</th>\n",
              "      <th>dport</th>\n",
              "      <th>pkts</th>\n",
              "      <th>bytes</th>\n",
              "      <th>state</th>\n",
              "      <th>state_number</th>\n",
              "      <th>ltime</th>\n",
              "      <th>seq</th>\n",
              "      <th>dur</th>\n",
              "      <th>mean</th>\n",
              "      <th>stddev</th>\n",
              "      <th>sum</th>\n",
              "      <th>min</th>\n",
              "      <th>max</th>\n",
              "      <th>spkts</th>\n",
              "      <th>dpkts</th>\n",
              "      <th>sbytes</th>\n",
              "      <th>dbytes</th>\n",
              "      <th>rate</th>\n",
              "      <th>srate</th>\n",
              "      <th>drate</th>\n",
              "      <th>TnBPSrcIP</th>\n",
              "      <th>TnBPDstIP</th>\n",
              "      <th>TnP_PSrcIP</th>\n",
              "      <th>TnP_PDstIP</th>\n",
              "      <th>TnP_PerProto</th>\n",
              "      <th>TnP_Per_Dport</th>\n",
              "      <th>AR_P_Proto_P_SrcIP</th>\n",
              "      <th>AR_P_Proto_P_DstIP</th>\n",
              "      <th>N_IN_Conn_P_DstIP</th>\n",
              "      <th>N_IN_Conn_P_SrcIP</th>\n",
              "      <th>AR_P_Proto_P_Sport</th>\n",
              "      <th>AR_P_Proto_P_Dport</th>\n",
              "      <th>Pkts_P_State_P_Protocol_P_DestIP</th>\n",
              "      <th>Pkts_P_State_P_Protocol_P_SrcIP</th>\n",
              "      <th>attack</th>\n",
              "      <th>category</th>\n",
              "      <th>subcategory</th>\n",
              "    </tr>\n",
              "  </thead>\n",
              "  <tbody>\n",
              "    <tr>\n",
              "      <th>0</th>\n",
              "      <td>1650261</td>\n",
              "      <td>1.528103e+09</td>\n",
              "      <td>e</td>\n",
              "      <td>1</td>\n",
              "      <td>tcp</td>\n",
              "      <td>1</td>\n",
              "      <td>54110</td>\n",
              "      <td>80</td>\n",
              "      <td>10</td>\n",
              "      <td>1729</td>\n",
              "      <td>RST</td>\n",
              "      <td>1</td>\n",
              "      <td>1.528103e+09</td>\n",
              "      <td>20</td>\n",
              "      <td>6.406424</td>\n",
              "      <td>0.679473</td>\n",
              "      <td>0.544126</td>\n",
              "      <td>1.358946</td>\n",
              "      <td>0.135347</td>\n",
              "      <td>1.223599</td>\n",
              "      <td>6</td>\n",
              "      <td>4</td>\n",
              "      <td>963</td>\n",
              "      <td>766</td>\n",
              "      <td>1.404840</td>\n",
              "      <td>0.780467</td>\n",
              "      <td>0.468280</td>\n",
              "      <td>56864</td>\n",
              "      <td>59969</td>\n",
              "      <td>308</td>\n",
              "      <td>328</td>\n",
              "      <td>328</td>\n",
              "      <td>700</td>\n",
              "      <td>1.26889</td>\n",
              "      <td>1.21662</td>\n",
              "      <td>40</td>\n",
              "      <td>38</td>\n",
              "      <td>1.56093</td>\n",
              "      <td>1.21662</td>\n",
              "      <td>328</td>\n",
              "      <td>308</td>\n",
              "      <td>1</td>\n",
              "      <td>DDoS</td>\n",
              "      <td>HTTP</td>\n",
              "    </tr>\n",
              "    <tr>\n",
              "      <th>1</th>\n",
              "      <td>1650262</td>\n",
              "      <td>1.528103e+09</td>\n",
              "      <td>e</td>\n",
              "      <td>1</td>\n",
              "      <td>tcp</td>\n",
              "      <td>1</td>\n",
              "      <td>54112</td>\n",
              "      <td>80</td>\n",
              "      <td>10</td>\n",
              "      <td>1604</td>\n",
              "      <td>RST</td>\n",
              "      <td>1</td>\n",
              "      <td>1.528103e+09</td>\n",
              "      <td>21</td>\n",
              "      <td>6.405851</td>\n",
              "      <td>0.679572</td>\n",
              "      <td>0.544197</td>\n",
              "      <td>1.359144</td>\n",
              "      <td>0.135375</td>\n",
              "      <td>1.223769</td>\n",
              "      <td>6</td>\n",
              "      <td>4</td>\n",
              "      <td>838</td>\n",
              "      <td>766</td>\n",
              "      <td>1.404966</td>\n",
              "      <td>0.780536</td>\n",
              "      <td>0.468322</td>\n",
              "      <td>56864</td>\n",
              "      <td>59969</td>\n",
              "      <td>308</td>\n",
              "      <td>328</td>\n",
              "      <td>328</td>\n",
              "      <td>700</td>\n",
              "      <td>1.26889</td>\n",
              "      <td>1.21662</td>\n",
              "      <td>40</td>\n",
              "      <td>38</td>\n",
              "      <td>1.56107</td>\n",
              "      <td>1.21662</td>\n",
              "      <td>328</td>\n",
              "      <td>308</td>\n",
              "      <td>1</td>\n",
              "      <td>DDoS</td>\n",
              "      <td>HTTP</td>\n",
              "    </tr>\n",
              "    <tr>\n",
              "      <th>2</th>\n",
              "      <td>1650263</td>\n",
              "      <td>1.528103e+09</td>\n",
              "      <td>e</td>\n",
              "      <td>1</td>\n",
              "      <td>tcp</td>\n",
              "      <td>1</td>\n",
              "      <td>54114</td>\n",
              "      <td>80</td>\n",
              "      <td>8</td>\n",
              "      <td>1708</td>\n",
              "      <td>RST</td>\n",
              "      <td>1</td>\n",
              "      <td>1.528103e+09</td>\n",
              "      <td>22</td>\n",
              "      <td>6.401038</td>\n",
              "      <td>1.110847</td>\n",
              "      <td>1.110847</td>\n",
              "      <td>2.221694</td>\n",
              "      <td>0.000000</td>\n",
              "      <td>2.221694</td>\n",
              "      <td>5</td>\n",
              "      <td>3</td>\n",
              "      <td>1008</td>\n",
              "      <td>700</td>\n",
              "      <td>1.093573</td>\n",
              "      <td>0.624899</td>\n",
              "      <td>0.900214</td>\n",
              "      <td>56864</td>\n",
              "      <td>59969</td>\n",
              "      <td>308</td>\n",
              "      <td>328</td>\n",
              "      <td>328</td>\n",
              "      <td>700</td>\n",
              "      <td>1.26889</td>\n",
              "      <td>1.21662</td>\n",
              "      <td>40</td>\n",
              "      <td>38</td>\n",
              "      <td>1.24980</td>\n",
              "      <td>1.21662</td>\n",
              "      <td>328</td>\n",
              "      <td>308</td>\n",
              "      <td>1</td>\n",
              "      <td>DDoS</td>\n",
              "      <td>HTTP</td>\n",
              "    </tr>\n",
              "    <tr>\n",
              "      <th>3</th>\n",
              "      <td>1650264</td>\n",
              "      <td>1.528103e+09</td>\n",
              "      <td>e</td>\n",
              "      <td>1</td>\n",
              "      <td>tcp</td>\n",
              "      <td>1</td>\n",
              "      <td>54116</td>\n",
              "      <td>80</td>\n",
              "      <td>8</td>\n",
              "      <td>1462</td>\n",
              "      <td>RST</td>\n",
              "      <td>1</td>\n",
              "      <td>1.528103e+09</td>\n",
              "      <td>23</td>\n",
              "      <td>6.400703</td>\n",
              "      <td>1.113328</td>\n",
              "      <td>1.113328</td>\n",
              "      <td>2.226655</td>\n",
              "      <td>0.000000</td>\n",
              "      <td>2.226655</td>\n",
              "      <td>5</td>\n",
              "      <td>3</td>\n",
              "      <td>762</td>\n",
              "      <td>700</td>\n",
              "      <td>1.093630</td>\n",
              "      <td>0.624931</td>\n",
              "      <td>0.898208</td>\n",
              "      <td>56864</td>\n",
              "      <td>59969</td>\n",
              "      <td>308</td>\n",
              "      <td>328</td>\n",
              "      <td>328</td>\n",
              "      <td>700</td>\n",
              "      <td>1.26889</td>\n",
              "      <td>1.21662</td>\n",
              "      <td>40</td>\n",
              "      <td>38</td>\n",
              "      <td>1.24986</td>\n",
              "      <td>1.21662</td>\n",
              "      <td>328</td>\n",
              "      <td>308</td>\n",
              "      <td>1</td>\n",
              "      <td>DDoS</td>\n",
              "      <td>HTTP</td>\n",
              "    </tr>\n",
              "    <tr>\n",
              "      <th>4</th>\n",
              "      <td>1650265</td>\n",
              "      <td>1.528103e+09</td>\n",
              "      <td>e</td>\n",
              "      <td>1</td>\n",
              "      <td>tcp</td>\n",
              "      <td>1</td>\n",
              "      <td>54118</td>\n",
              "      <td>80</td>\n",
              "      <td>8</td>\n",
              "      <td>1296</td>\n",
              "      <td>RST</td>\n",
              "      <td>1</td>\n",
              "      <td>1.528103e+09</td>\n",
              "      <td>24</td>\n",
              "      <td>6.400472</td>\n",
              "      <td>1.113098</td>\n",
              "      <td>1.113098</td>\n",
              "      <td>2.226195</td>\n",
              "      <td>0.000000</td>\n",
              "      <td>2.226195</td>\n",
              "      <td>5</td>\n",
              "      <td>3</td>\n",
              "      <td>596</td>\n",
              "      <td>700</td>\n",
              "      <td>1.093669</td>\n",
              "      <td>0.624954</td>\n",
              "      <td>0.898394</td>\n",
              "      <td>56864</td>\n",
              "      <td>59969</td>\n",
              "      <td>308</td>\n",
              "      <td>328</td>\n",
              "      <td>328</td>\n",
              "      <td>700</td>\n",
              "      <td>1.26889</td>\n",
              "      <td>1.21662</td>\n",
              "      <td>40</td>\n",
              "      <td>38</td>\n",
              "      <td>1.24991</td>\n",
              "      <td>1.21662</td>\n",
              "      <td>328</td>\n",
              "      <td>308</td>\n",
              "      <td>1</td>\n",
              "      <td>DDoS</td>\n",
              "      <td>HTTP</td>\n",
              "    </tr>\n",
              "  </tbody>\n",
              "</table>\n",
              "</div>"
            ],
            "text/plain": [
              "   pkSeqID         stime flgs  ...  attack category  subcategory\n",
              "0  1650261  1.528103e+09    e  ...       1     DDoS         HTTP\n",
              "1  1650262  1.528103e+09    e  ...       1     DDoS         HTTP\n",
              "2  1650263  1.528103e+09    e  ...       1     DDoS         HTTP\n",
              "3  1650264  1.528103e+09    e  ...       1     DDoS         HTTP\n",
              "4  1650265  1.528103e+09    e  ...       1     DDoS         HTTP\n",
              "\n",
              "[5 rows x 44 columns]"
            ]
          },
          "metadata": {
            "tags": []
          },
          "execution_count": 30
        }
      ]
    },
    {
      "cell_type": "code",
      "metadata": {
        "id": "QMSW1uzZR1yb",
        "colab_type": "code",
        "colab": {
          "base_uri": "https://localhost:8080/",
          "height": 224
        },
        "outputId": "c1a80c3d-dd29-4c91-80dc-a969cad3df9e"
      },
      "source": [
        "# category와 subcategory 순서 바꿔주기 \n",
        "dataset = dataset[[ 'pkSeqID',\t'stime', 'flgs',\t'flgs_number',\t'proto',\t'proto_number',\t'sport', 'dport',\t'pkts',\t\n",
        "                   'bytes',\t'state',\t'state_number',\t'ltime',\t'seq',\t'dur',\t'mean',\t'stddev',\t'sum',\t'min',\t'max',\t'spkts',\t'dpkts',\t\n",
        "                    'sbytes',\t'dbytes',\t'rate',\t'srate',\t'drate',\t'TnBPSrcIP',\t'TnBPDstIP',\t'TnP_PSrcIP',\t'TnP_PDstIP',\t'TnP_PerProto',\t\n",
        "                    'TnP_Per_Dport',\t'AR_P_Proto_P_SrcIP',\t'AR_P_Proto_P_DstIP',\t'N_IN_Conn_P_DstIP',\t'N_IN_Conn_P_SrcIP',\t\n",
        "                    'AR_P_Proto_P_Sport',\t'AR_P_Proto_P_Dport',\t'Pkts_P_State_P_Protocol_P_DestIP',\t\n",
        "                    'Pkts_P_State_P_Protocol_P_SrcIP',\t'attack', 'subcategory', 'category']]\n",
        "dataset.head()"
      ],
      "execution_count": null,
      "outputs": [
        {
          "output_type": "execute_result",
          "data": {
            "text/html": [
              "<div>\n",
              "<style scoped>\n",
              "    .dataframe tbody tr th:only-of-type {\n",
              "        vertical-align: middle;\n",
              "    }\n",
              "\n",
              "    .dataframe tbody tr th {\n",
              "        vertical-align: top;\n",
              "    }\n",
              "\n",
              "    .dataframe thead th {\n",
              "        text-align: right;\n",
              "    }\n",
              "</style>\n",
              "<table border=\"1\" class=\"dataframe\">\n",
              "  <thead>\n",
              "    <tr style=\"text-align: right;\">\n",
              "      <th></th>\n",
              "      <th>pkSeqID</th>\n",
              "      <th>stime</th>\n",
              "      <th>flgs</th>\n",
              "      <th>flgs_number</th>\n",
              "      <th>proto</th>\n",
              "      <th>proto_number</th>\n",
              "      <th>sport</th>\n",
              "      <th>dport</th>\n",
              "      <th>pkts</th>\n",
              "      <th>bytes</th>\n",
              "      <th>state</th>\n",
              "      <th>state_number</th>\n",
              "      <th>ltime</th>\n",
              "      <th>seq</th>\n",
              "      <th>dur</th>\n",
              "      <th>mean</th>\n",
              "      <th>stddev</th>\n",
              "      <th>sum</th>\n",
              "      <th>min</th>\n",
              "      <th>max</th>\n",
              "      <th>spkts</th>\n",
              "      <th>dpkts</th>\n",
              "      <th>sbytes</th>\n",
              "      <th>dbytes</th>\n",
              "      <th>rate</th>\n",
              "      <th>srate</th>\n",
              "      <th>drate</th>\n",
              "      <th>TnBPSrcIP</th>\n",
              "      <th>TnBPDstIP</th>\n",
              "      <th>TnP_PSrcIP</th>\n",
              "      <th>TnP_PDstIP</th>\n",
              "      <th>TnP_PerProto</th>\n",
              "      <th>TnP_Per_Dport</th>\n",
              "      <th>AR_P_Proto_P_SrcIP</th>\n",
              "      <th>AR_P_Proto_P_DstIP</th>\n",
              "      <th>N_IN_Conn_P_DstIP</th>\n",
              "      <th>N_IN_Conn_P_SrcIP</th>\n",
              "      <th>AR_P_Proto_P_Sport</th>\n",
              "      <th>AR_P_Proto_P_Dport</th>\n",
              "      <th>Pkts_P_State_P_Protocol_P_DestIP</th>\n",
              "      <th>Pkts_P_State_P_Protocol_P_SrcIP</th>\n",
              "      <th>attack</th>\n",
              "      <th>subcategory</th>\n",
              "      <th>category</th>\n",
              "    </tr>\n",
              "  </thead>\n",
              "  <tbody>\n",
              "    <tr>\n",
              "      <th>0</th>\n",
              "      <td>1650261</td>\n",
              "      <td>1.528103e+09</td>\n",
              "      <td>e</td>\n",
              "      <td>1</td>\n",
              "      <td>tcp</td>\n",
              "      <td>1</td>\n",
              "      <td>54110</td>\n",
              "      <td>80</td>\n",
              "      <td>10</td>\n",
              "      <td>1729</td>\n",
              "      <td>RST</td>\n",
              "      <td>1</td>\n",
              "      <td>1.528103e+09</td>\n",
              "      <td>20</td>\n",
              "      <td>6.406424</td>\n",
              "      <td>0.679473</td>\n",
              "      <td>0.544126</td>\n",
              "      <td>1.358946</td>\n",
              "      <td>0.135347</td>\n",
              "      <td>1.223599</td>\n",
              "      <td>6</td>\n",
              "      <td>4</td>\n",
              "      <td>963</td>\n",
              "      <td>766</td>\n",
              "      <td>1.404840</td>\n",
              "      <td>0.780467</td>\n",
              "      <td>0.468280</td>\n",
              "      <td>56864</td>\n",
              "      <td>59969</td>\n",
              "      <td>308</td>\n",
              "      <td>328</td>\n",
              "      <td>328</td>\n",
              "      <td>700</td>\n",
              "      <td>1.26889</td>\n",
              "      <td>1.21662</td>\n",
              "      <td>40</td>\n",
              "      <td>38</td>\n",
              "      <td>1.56093</td>\n",
              "      <td>1.21662</td>\n",
              "      <td>328</td>\n",
              "      <td>308</td>\n",
              "      <td>1</td>\n",
              "      <td>HTTP</td>\n",
              "      <td>DDoS</td>\n",
              "    </tr>\n",
              "    <tr>\n",
              "      <th>1</th>\n",
              "      <td>1650262</td>\n",
              "      <td>1.528103e+09</td>\n",
              "      <td>e</td>\n",
              "      <td>1</td>\n",
              "      <td>tcp</td>\n",
              "      <td>1</td>\n",
              "      <td>54112</td>\n",
              "      <td>80</td>\n",
              "      <td>10</td>\n",
              "      <td>1604</td>\n",
              "      <td>RST</td>\n",
              "      <td>1</td>\n",
              "      <td>1.528103e+09</td>\n",
              "      <td>21</td>\n",
              "      <td>6.405851</td>\n",
              "      <td>0.679572</td>\n",
              "      <td>0.544197</td>\n",
              "      <td>1.359144</td>\n",
              "      <td>0.135375</td>\n",
              "      <td>1.223769</td>\n",
              "      <td>6</td>\n",
              "      <td>4</td>\n",
              "      <td>838</td>\n",
              "      <td>766</td>\n",
              "      <td>1.404966</td>\n",
              "      <td>0.780536</td>\n",
              "      <td>0.468322</td>\n",
              "      <td>56864</td>\n",
              "      <td>59969</td>\n",
              "      <td>308</td>\n",
              "      <td>328</td>\n",
              "      <td>328</td>\n",
              "      <td>700</td>\n",
              "      <td>1.26889</td>\n",
              "      <td>1.21662</td>\n",
              "      <td>40</td>\n",
              "      <td>38</td>\n",
              "      <td>1.56107</td>\n",
              "      <td>1.21662</td>\n",
              "      <td>328</td>\n",
              "      <td>308</td>\n",
              "      <td>1</td>\n",
              "      <td>HTTP</td>\n",
              "      <td>DDoS</td>\n",
              "    </tr>\n",
              "    <tr>\n",
              "      <th>2</th>\n",
              "      <td>1650263</td>\n",
              "      <td>1.528103e+09</td>\n",
              "      <td>e</td>\n",
              "      <td>1</td>\n",
              "      <td>tcp</td>\n",
              "      <td>1</td>\n",
              "      <td>54114</td>\n",
              "      <td>80</td>\n",
              "      <td>8</td>\n",
              "      <td>1708</td>\n",
              "      <td>RST</td>\n",
              "      <td>1</td>\n",
              "      <td>1.528103e+09</td>\n",
              "      <td>22</td>\n",
              "      <td>6.401038</td>\n",
              "      <td>1.110847</td>\n",
              "      <td>1.110847</td>\n",
              "      <td>2.221694</td>\n",
              "      <td>0.000000</td>\n",
              "      <td>2.221694</td>\n",
              "      <td>5</td>\n",
              "      <td>3</td>\n",
              "      <td>1008</td>\n",
              "      <td>700</td>\n",
              "      <td>1.093573</td>\n",
              "      <td>0.624899</td>\n",
              "      <td>0.900214</td>\n",
              "      <td>56864</td>\n",
              "      <td>59969</td>\n",
              "      <td>308</td>\n",
              "      <td>328</td>\n",
              "      <td>328</td>\n",
              "      <td>700</td>\n",
              "      <td>1.26889</td>\n",
              "      <td>1.21662</td>\n",
              "      <td>40</td>\n",
              "      <td>38</td>\n",
              "      <td>1.24980</td>\n",
              "      <td>1.21662</td>\n",
              "      <td>328</td>\n",
              "      <td>308</td>\n",
              "      <td>1</td>\n",
              "      <td>HTTP</td>\n",
              "      <td>DDoS</td>\n",
              "    </tr>\n",
              "    <tr>\n",
              "      <th>3</th>\n",
              "      <td>1650264</td>\n",
              "      <td>1.528103e+09</td>\n",
              "      <td>e</td>\n",
              "      <td>1</td>\n",
              "      <td>tcp</td>\n",
              "      <td>1</td>\n",
              "      <td>54116</td>\n",
              "      <td>80</td>\n",
              "      <td>8</td>\n",
              "      <td>1462</td>\n",
              "      <td>RST</td>\n",
              "      <td>1</td>\n",
              "      <td>1.528103e+09</td>\n",
              "      <td>23</td>\n",
              "      <td>6.400703</td>\n",
              "      <td>1.113328</td>\n",
              "      <td>1.113328</td>\n",
              "      <td>2.226655</td>\n",
              "      <td>0.000000</td>\n",
              "      <td>2.226655</td>\n",
              "      <td>5</td>\n",
              "      <td>3</td>\n",
              "      <td>762</td>\n",
              "      <td>700</td>\n",
              "      <td>1.093630</td>\n",
              "      <td>0.624931</td>\n",
              "      <td>0.898208</td>\n",
              "      <td>56864</td>\n",
              "      <td>59969</td>\n",
              "      <td>308</td>\n",
              "      <td>328</td>\n",
              "      <td>328</td>\n",
              "      <td>700</td>\n",
              "      <td>1.26889</td>\n",
              "      <td>1.21662</td>\n",
              "      <td>40</td>\n",
              "      <td>38</td>\n",
              "      <td>1.24986</td>\n",
              "      <td>1.21662</td>\n",
              "      <td>328</td>\n",
              "      <td>308</td>\n",
              "      <td>1</td>\n",
              "      <td>HTTP</td>\n",
              "      <td>DDoS</td>\n",
              "    </tr>\n",
              "    <tr>\n",
              "      <th>4</th>\n",
              "      <td>1650265</td>\n",
              "      <td>1.528103e+09</td>\n",
              "      <td>e</td>\n",
              "      <td>1</td>\n",
              "      <td>tcp</td>\n",
              "      <td>1</td>\n",
              "      <td>54118</td>\n",
              "      <td>80</td>\n",
              "      <td>8</td>\n",
              "      <td>1296</td>\n",
              "      <td>RST</td>\n",
              "      <td>1</td>\n",
              "      <td>1.528103e+09</td>\n",
              "      <td>24</td>\n",
              "      <td>6.400472</td>\n",
              "      <td>1.113098</td>\n",
              "      <td>1.113098</td>\n",
              "      <td>2.226195</td>\n",
              "      <td>0.000000</td>\n",
              "      <td>2.226195</td>\n",
              "      <td>5</td>\n",
              "      <td>3</td>\n",
              "      <td>596</td>\n",
              "      <td>700</td>\n",
              "      <td>1.093669</td>\n",
              "      <td>0.624954</td>\n",
              "      <td>0.898394</td>\n",
              "      <td>56864</td>\n",
              "      <td>59969</td>\n",
              "      <td>308</td>\n",
              "      <td>328</td>\n",
              "      <td>328</td>\n",
              "      <td>700</td>\n",
              "      <td>1.26889</td>\n",
              "      <td>1.21662</td>\n",
              "      <td>40</td>\n",
              "      <td>38</td>\n",
              "      <td>1.24991</td>\n",
              "      <td>1.21662</td>\n",
              "      <td>328</td>\n",
              "      <td>308</td>\n",
              "      <td>1</td>\n",
              "      <td>HTTP</td>\n",
              "      <td>DDoS</td>\n",
              "    </tr>\n",
              "  </tbody>\n",
              "</table>\n",
              "</div>"
            ],
            "text/plain": [
              "   pkSeqID         stime flgs  ...  attack subcategory  category\n",
              "0  1650261  1.528103e+09    e  ...       1        HTTP      DDoS\n",
              "1  1650262  1.528103e+09    e  ...       1        HTTP      DDoS\n",
              "2  1650263  1.528103e+09    e  ...       1        HTTP      DDoS\n",
              "3  1650264  1.528103e+09    e  ...       1        HTTP      DDoS\n",
              "4  1650265  1.528103e+09    e  ...       1        HTTP      DDoS\n",
              "\n",
              "[5 rows x 44 columns]"
            ]
          },
          "metadata": {
            "tags": []
          },
          "execution_count": 31
        }
      ]
    },
    {
      "cell_type": "code",
      "metadata": {
        "id": "6qcq-8qnyqZ6",
        "colab_type": "code",
        "colab": {
          "base_uri": "https://localhost:8080/",
          "height": 35
        },
        "outputId": "278b550c-1618-4ef5-a244-0e04486f91bb"
      },
      "source": [
        "dataset['subcategory'].unique()"
      ],
      "execution_count": null,
      "outputs": [
        {
          "output_type": "execute_result",
          "data": {
            "text/plain": [
              "array(['HTTP', 'TCP', 'UDP', 'Normal'], dtype=object)"
            ]
          },
          "metadata": {
            "tags": []
          },
          "execution_count": 32
        }
      ]
    },
    {
      "cell_type": "code",
      "metadata": {
        "id": "hiJJRvkFyr-s",
        "colab_type": "code",
        "colab": {
          "base_uri": "https://localhost:8080/",
          "height": 107
        },
        "outputId": "f79a0ce3-6a5a-476a-abec-0b44978de2e5"
      },
      "source": [
        "dataset['subcategory'].value_counts()"
      ],
      "execution_count": null,
      "outputs": [
        {
          "output_type": "execute_result",
          "data": {
            "text/plain": [
              "TCP       977380\n",
              "UDP       948255\n",
              "HTTP         989\n",
              "Normal       477\n",
              "Name: subcategory, dtype: int64"
            ]
          },
          "metadata": {
            "tags": []
          },
          "execution_count": 18
        }
      ]
    },
    {
      "cell_type": "code",
      "metadata": {
        "id": "1N4TEmYYE4B7",
        "colab_type": "code",
        "colab": {
          "base_uri": "https://localhost:8080/",
          "height": 35
        },
        "outputId": "5b7b2ff2-1572-4706-c535-6121fa9ba1d7"
      },
      "source": [
        "dataset['category'].unique()"
      ],
      "execution_count": null,
      "outputs": [
        {
          "output_type": "execute_result",
          "data": {
            "text/plain": [
              "array(['DDoS', 'Normal'], dtype=object)"
            ]
          },
          "metadata": {
            "tags": []
          },
          "execution_count": 19
        }
      ]
    },
    {
      "cell_type": "code",
      "metadata": {
        "id": "3-0rhKi1E58M",
        "colab_type": "code",
        "colab": {
          "base_uri": "https://localhost:8080/",
          "height": 71
        },
        "outputId": "8f5f103c-a377-4c40-ef8b-2c4de141df61"
      },
      "source": [
        "dataset['category'].value_counts()"
      ],
      "execution_count": null,
      "outputs": [
        {
          "output_type": "execute_result",
          "data": {
            "text/plain": [
              "DDoS      1926624\n",
              "Normal        477\n",
              "Name: category, dtype: int64"
            ]
          },
          "metadata": {
            "tags": []
          },
          "execution_count": 20
        }
      ]
    },
    {
      "cell_type": "code",
      "metadata": {
        "id": "ggscBgSZFOrZ",
        "colab_type": "code",
        "colab": {}
      },
      "source": [
        "dataset['category'] = dataset['category'].replace(['normal.'],'attack')"
      ],
      "execution_count": null,
      "outputs": []
    },
    {
      "cell_type": "code",
      "metadata": {
        "id": "TRTj6ycGGKEi",
        "colab_type": "code",
        "colab": {
          "base_uri": "https://localhost:8080/",
          "height": 35
        },
        "outputId": "ac555e0e-1d96-40bc-a992-e8b0aefb661b"
      },
      "source": [
        "dataset['category'].unique()"
      ],
      "execution_count": null,
      "outputs": [
        {
          "output_type": "execute_result",
          "data": {
            "text/plain": [
              "array(['DDoS', 'Normal'], dtype=object)"
            ]
          },
          "metadata": {
            "tags": []
          },
          "execution_count": 22
        }
      ]
    },
    {
      "cell_type": "code",
      "metadata": {
        "id": "xZvvm8ooGsyX",
        "colab_type": "code",
        "colab": {
          "base_uri": "https://localhost:8080/",
          "height": 125
        },
        "outputId": "2cca8878-41fd-4882-b1a9-e784befbe56f"
      },
      "source": [
        "dataset['proto'].unique()\n",
        "dataset['proto'].value_counts()"
      ],
      "execution_count": null,
      "outputs": [
        {
          "output_type": "execute_result",
          "data": {
            "text/plain": [
              "tcp          978397\n",
              "udp          948598\n",
              "arp              82\n",
              "icmp             16\n",
              "ipv6-icmp         8\n",
              "Name: proto, dtype: int64"
            ]
          },
          "metadata": {
            "tags": []
          },
          "execution_count": 23
        }
      ]
    },
    {
      "cell_type": "code",
      "metadata": {
        "id": "NaltotxPVJBt",
        "colab_type": "code",
        "colab": {
          "base_uri": "https://localhost:8080/",
          "height": 233
        },
        "outputId": "f3f81e7e-f08c-4522-c820-53fce266b128"
      },
      "source": [
        "dataset['proto']"
      ],
      "execution_count": null,
      "outputs": [
        {
          "output_type": "execute_result",
          "data": {
            "text/plain": [
              "0          tcp\n",
              "1          tcp\n",
              "2          tcp\n",
              "3          tcp\n",
              "4          tcp\n",
              "          ... \n",
              "1927096    udp\n",
              "1927097    udp\n",
              "1927098    udp\n",
              "1927099    udp\n",
              "1927100    udp\n",
              "Name: proto, Length: 1927101, dtype: object"
            ]
          },
          "metadata": {
            "tags": []
          },
          "execution_count": 32
        }
      ]
    },
    {
      "cell_type": "code",
      "metadata": {
        "id": "E-2HYcmfZuog",
        "colab_type": "code",
        "colab": {
          "base_uri": "https://localhost:8080/",
          "height": 224
        },
        "outputId": "d623a750-93af-471a-aece-dcd42403aae4"
      },
      "source": [
        "# object 타입인 flgs 삭제 \n",
        "dataset['flgs'].unique()\n",
        "del dataset[\"flgs\"]\n",
        "\n",
        "dataset.head()"
      ],
      "execution_count": null,
      "outputs": [
        {
          "output_type": "execute_result",
          "data": {
            "text/html": [
              "<div>\n",
              "<style scoped>\n",
              "    .dataframe tbody tr th:only-of-type {\n",
              "        vertical-align: middle;\n",
              "    }\n",
              "\n",
              "    .dataframe tbody tr th {\n",
              "        vertical-align: top;\n",
              "    }\n",
              "\n",
              "    .dataframe thead th {\n",
              "        text-align: right;\n",
              "    }\n",
              "</style>\n",
              "<table border=\"1\" class=\"dataframe\">\n",
              "  <thead>\n",
              "    <tr style=\"text-align: right;\">\n",
              "      <th></th>\n",
              "      <th>pkSeqID</th>\n",
              "      <th>stime</th>\n",
              "      <th>flgs_number</th>\n",
              "      <th>proto</th>\n",
              "      <th>proto_number</th>\n",
              "      <th>sport</th>\n",
              "      <th>dport</th>\n",
              "      <th>pkts</th>\n",
              "      <th>bytes</th>\n",
              "      <th>state</th>\n",
              "      <th>state_number</th>\n",
              "      <th>ltime</th>\n",
              "      <th>seq</th>\n",
              "      <th>dur</th>\n",
              "      <th>mean</th>\n",
              "      <th>stddev</th>\n",
              "      <th>sum</th>\n",
              "      <th>min</th>\n",
              "      <th>max</th>\n",
              "      <th>spkts</th>\n",
              "      <th>dpkts</th>\n",
              "      <th>sbytes</th>\n",
              "      <th>dbytes</th>\n",
              "      <th>rate</th>\n",
              "      <th>srate</th>\n",
              "      <th>drate</th>\n",
              "      <th>TnBPSrcIP</th>\n",
              "      <th>TnBPDstIP</th>\n",
              "      <th>TnP_PSrcIP</th>\n",
              "      <th>TnP_PDstIP</th>\n",
              "      <th>TnP_PerProto</th>\n",
              "      <th>TnP_Per_Dport</th>\n",
              "      <th>AR_P_Proto_P_SrcIP</th>\n",
              "      <th>AR_P_Proto_P_DstIP</th>\n",
              "      <th>N_IN_Conn_P_DstIP</th>\n",
              "      <th>N_IN_Conn_P_SrcIP</th>\n",
              "      <th>AR_P_Proto_P_Sport</th>\n",
              "      <th>AR_P_Proto_P_Dport</th>\n",
              "      <th>Pkts_P_State_P_Protocol_P_DestIP</th>\n",
              "      <th>Pkts_P_State_P_Protocol_P_SrcIP</th>\n",
              "      <th>attack</th>\n",
              "      <th>subcategory</th>\n",
              "      <th>category</th>\n",
              "    </tr>\n",
              "  </thead>\n",
              "  <tbody>\n",
              "    <tr>\n",
              "      <th>0</th>\n",
              "      <td>1650261</td>\n",
              "      <td>1.528103e+09</td>\n",
              "      <td>1</td>\n",
              "      <td>tcp</td>\n",
              "      <td>1</td>\n",
              "      <td>54110</td>\n",
              "      <td>80</td>\n",
              "      <td>10</td>\n",
              "      <td>1729</td>\n",
              "      <td>RST</td>\n",
              "      <td>1</td>\n",
              "      <td>1.528103e+09</td>\n",
              "      <td>20</td>\n",
              "      <td>6.406424</td>\n",
              "      <td>0.679473</td>\n",
              "      <td>0.544126</td>\n",
              "      <td>1.358946</td>\n",
              "      <td>0.135347</td>\n",
              "      <td>1.223599</td>\n",
              "      <td>6</td>\n",
              "      <td>4</td>\n",
              "      <td>963</td>\n",
              "      <td>766</td>\n",
              "      <td>1.404840</td>\n",
              "      <td>0.780467</td>\n",
              "      <td>0.468280</td>\n",
              "      <td>56864</td>\n",
              "      <td>59969</td>\n",
              "      <td>308</td>\n",
              "      <td>328</td>\n",
              "      <td>328</td>\n",
              "      <td>700</td>\n",
              "      <td>1.26889</td>\n",
              "      <td>1.21662</td>\n",
              "      <td>40</td>\n",
              "      <td>38</td>\n",
              "      <td>1.56093</td>\n",
              "      <td>1.21662</td>\n",
              "      <td>328</td>\n",
              "      <td>308</td>\n",
              "      <td>1</td>\n",
              "      <td>HTTP</td>\n",
              "      <td>DDoS</td>\n",
              "    </tr>\n",
              "    <tr>\n",
              "      <th>1</th>\n",
              "      <td>1650262</td>\n",
              "      <td>1.528103e+09</td>\n",
              "      <td>1</td>\n",
              "      <td>tcp</td>\n",
              "      <td>1</td>\n",
              "      <td>54112</td>\n",
              "      <td>80</td>\n",
              "      <td>10</td>\n",
              "      <td>1604</td>\n",
              "      <td>RST</td>\n",
              "      <td>1</td>\n",
              "      <td>1.528103e+09</td>\n",
              "      <td>21</td>\n",
              "      <td>6.405851</td>\n",
              "      <td>0.679572</td>\n",
              "      <td>0.544197</td>\n",
              "      <td>1.359144</td>\n",
              "      <td>0.135375</td>\n",
              "      <td>1.223769</td>\n",
              "      <td>6</td>\n",
              "      <td>4</td>\n",
              "      <td>838</td>\n",
              "      <td>766</td>\n",
              "      <td>1.404966</td>\n",
              "      <td>0.780536</td>\n",
              "      <td>0.468322</td>\n",
              "      <td>56864</td>\n",
              "      <td>59969</td>\n",
              "      <td>308</td>\n",
              "      <td>328</td>\n",
              "      <td>328</td>\n",
              "      <td>700</td>\n",
              "      <td>1.26889</td>\n",
              "      <td>1.21662</td>\n",
              "      <td>40</td>\n",
              "      <td>38</td>\n",
              "      <td>1.56107</td>\n",
              "      <td>1.21662</td>\n",
              "      <td>328</td>\n",
              "      <td>308</td>\n",
              "      <td>1</td>\n",
              "      <td>HTTP</td>\n",
              "      <td>DDoS</td>\n",
              "    </tr>\n",
              "    <tr>\n",
              "      <th>2</th>\n",
              "      <td>1650263</td>\n",
              "      <td>1.528103e+09</td>\n",
              "      <td>1</td>\n",
              "      <td>tcp</td>\n",
              "      <td>1</td>\n",
              "      <td>54114</td>\n",
              "      <td>80</td>\n",
              "      <td>8</td>\n",
              "      <td>1708</td>\n",
              "      <td>RST</td>\n",
              "      <td>1</td>\n",
              "      <td>1.528103e+09</td>\n",
              "      <td>22</td>\n",
              "      <td>6.401038</td>\n",
              "      <td>1.110847</td>\n",
              "      <td>1.110847</td>\n",
              "      <td>2.221694</td>\n",
              "      <td>0.000000</td>\n",
              "      <td>2.221694</td>\n",
              "      <td>5</td>\n",
              "      <td>3</td>\n",
              "      <td>1008</td>\n",
              "      <td>700</td>\n",
              "      <td>1.093573</td>\n",
              "      <td>0.624899</td>\n",
              "      <td>0.900214</td>\n",
              "      <td>56864</td>\n",
              "      <td>59969</td>\n",
              "      <td>308</td>\n",
              "      <td>328</td>\n",
              "      <td>328</td>\n",
              "      <td>700</td>\n",
              "      <td>1.26889</td>\n",
              "      <td>1.21662</td>\n",
              "      <td>40</td>\n",
              "      <td>38</td>\n",
              "      <td>1.24980</td>\n",
              "      <td>1.21662</td>\n",
              "      <td>328</td>\n",
              "      <td>308</td>\n",
              "      <td>1</td>\n",
              "      <td>HTTP</td>\n",
              "      <td>DDoS</td>\n",
              "    </tr>\n",
              "    <tr>\n",
              "      <th>3</th>\n",
              "      <td>1650264</td>\n",
              "      <td>1.528103e+09</td>\n",
              "      <td>1</td>\n",
              "      <td>tcp</td>\n",
              "      <td>1</td>\n",
              "      <td>54116</td>\n",
              "      <td>80</td>\n",
              "      <td>8</td>\n",
              "      <td>1462</td>\n",
              "      <td>RST</td>\n",
              "      <td>1</td>\n",
              "      <td>1.528103e+09</td>\n",
              "      <td>23</td>\n",
              "      <td>6.400703</td>\n",
              "      <td>1.113328</td>\n",
              "      <td>1.113328</td>\n",
              "      <td>2.226655</td>\n",
              "      <td>0.000000</td>\n",
              "      <td>2.226655</td>\n",
              "      <td>5</td>\n",
              "      <td>3</td>\n",
              "      <td>762</td>\n",
              "      <td>700</td>\n",
              "      <td>1.093630</td>\n",
              "      <td>0.624931</td>\n",
              "      <td>0.898208</td>\n",
              "      <td>56864</td>\n",
              "      <td>59969</td>\n",
              "      <td>308</td>\n",
              "      <td>328</td>\n",
              "      <td>328</td>\n",
              "      <td>700</td>\n",
              "      <td>1.26889</td>\n",
              "      <td>1.21662</td>\n",
              "      <td>40</td>\n",
              "      <td>38</td>\n",
              "      <td>1.24986</td>\n",
              "      <td>1.21662</td>\n",
              "      <td>328</td>\n",
              "      <td>308</td>\n",
              "      <td>1</td>\n",
              "      <td>HTTP</td>\n",
              "      <td>DDoS</td>\n",
              "    </tr>\n",
              "    <tr>\n",
              "      <th>4</th>\n",
              "      <td>1650265</td>\n",
              "      <td>1.528103e+09</td>\n",
              "      <td>1</td>\n",
              "      <td>tcp</td>\n",
              "      <td>1</td>\n",
              "      <td>54118</td>\n",
              "      <td>80</td>\n",
              "      <td>8</td>\n",
              "      <td>1296</td>\n",
              "      <td>RST</td>\n",
              "      <td>1</td>\n",
              "      <td>1.528103e+09</td>\n",
              "      <td>24</td>\n",
              "      <td>6.400472</td>\n",
              "      <td>1.113098</td>\n",
              "      <td>1.113098</td>\n",
              "      <td>2.226195</td>\n",
              "      <td>0.000000</td>\n",
              "      <td>2.226195</td>\n",
              "      <td>5</td>\n",
              "      <td>3</td>\n",
              "      <td>596</td>\n",
              "      <td>700</td>\n",
              "      <td>1.093669</td>\n",
              "      <td>0.624954</td>\n",
              "      <td>0.898394</td>\n",
              "      <td>56864</td>\n",
              "      <td>59969</td>\n",
              "      <td>308</td>\n",
              "      <td>328</td>\n",
              "      <td>328</td>\n",
              "      <td>700</td>\n",
              "      <td>1.26889</td>\n",
              "      <td>1.21662</td>\n",
              "      <td>40</td>\n",
              "      <td>38</td>\n",
              "      <td>1.24991</td>\n",
              "      <td>1.21662</td>\n",
              "      <td>328</td>\n",
              "      <td>308</td>\n",
              "      <td>1</td>\n",
              "      <td>HTTP</td>\n",
              "      <td>DDoS</td>\n",
              "    </tr>\n",
              "  </tbody>\n",
              "</table>\n",
              "</div>"
            ],
            "text/plain": [
              "   pkSeqID         stime  flgs_number  ... attack  subcategory category\n",
              "0  1650261  1.528103e+09            1  ...      1         HTTP     DDoS\n",
              "1  1650262  1.528103e+09            1  ...      1         HTTP     DDoS\n",
              "2  1650263  1.528103e+09            1  ...      1         HTTP     DDoS\n",
              "3  1650264  1.528103e+09            1  ...      1         HTTP     DDoS\n",
              "4  1650265  1.528103e+09            1  ...      1         HTTP     DDoS\n",
              "\n",
              "[5 rows x 43 columns]"
            ]
          },
          "metadata": {
            "tags": []
          },
          "execution_count": 34
        }
      ]
    },
    {
      "cell_type": "code",
      "metadata": {
        "id": "ZDoot1XIIbHV",
        "colab_type": "code",
        "colab": {
          "base_uri": "https://localhost:8080/",
          "height": 179
        },
        "outputId": "62cd79d5-6c1b-4919-e853-8e0618066b9d"
      },
      "source": [
        "#state 가 패킷의 flag를 뜻한다. \n",
        "dataset['state'].unique()\n",
        "dataset['state'].value_counts()"
      ],
      "execution_count": null,
      "outputs": [
        {
          "output_type": "execute_result",
          "data": {
            "text/plain": [
              "INT    948382\n",
              "REQ    538593\n",
              "RST    437281\n",
              "ACC      2476\n",
              "CON       329\n",
              "FIN        16\n",
              "URP        16\n",
              "NRS         8\n",
              "Name: state, dtype: int64"
            ]
          },
          "metadata": {
            "tags": []
          },
          "execution_count": 35
        }
      ]
    },
    {
      "cell_type": "code",
      "metadata": {
        "id": "kMvntUSbHICz",
        "colab_type": "code",
        "colab": {
          "base_uri": "https://localhost:8080/",
          "height": 71
        },
        "outputId": "006c7e79-3b1f-4002-f9bf-2acb6de0827a"
      },
      "source": [
        "dataset['attack'].value_counts()"
      ],
      "execution_count": null,
      "outputs": [
        {
          "output_type": "execute_result",
          "data": {
            "text/plain": [
              "1    1926624\n",
              "0        477\n",
              "Name: attack, dtype: int64"
            ]
          },
          "metadata": {
            "tags": []
          },
          "execution_count": 63
        }
      ]
    },
    {
      "cell_type": "code",
      "metadata": {
        "id": "VPYa3J7lytob",
        "colab_type": "code",
        "colab": {
          "base_uri": "https://localhost:8080/",
          "height": 35
        },
        "outputId": "67819479-9dcf-486f-cbfa-fd61ada2ac4e"
      },
      "source": [
        "x = dataset.iloc[:,:-1].values\n",
        "y = dataset.iloc[:,42].values\n",
        "\n",
        "print(x.shape, y.shape)"
      ],
      "execution_count": null,
      "outputs": [
        {
          "output_type": "stream",
          "text": [
            "(1927101, 42) (1927101,)\n"
          ],
          "name": "stdout"
        }
      ]
    },
    {
      "cell_type": "code",
      "metadata": {
        "id": "wqmwO7OY72g7",
        "colab_type": "code",
        "colab": {
          "base_uri": "https://localhost:8080/",
          "height": 71
        },
        "outputId": "2e93e15b-c3a3-4c8c-c609-b05b36c49075"
      },
      "source": [
        "uniq1 = dataset.proto.unique()\n",
        "uniq2 = dataset.state.unique()\n",
        "uniq3 = dataset.subcategory.unique()\n",
        "\n",
        "uniq1.sort()\n",
        "uniq2.sort()\n",
        "uniq3.sort()\n",
        "\n",
        "print(uniq1)\n",
        "print(uniq2)\n",
        "print(uniq3)"
      ],
      "execution_count": null,
      "outputs": [
        {
          "output_type": "stream",
          "text": [
            "['arp' 'icmp' 'ipv6-icmp' 'tcp' 'udp']\n",
            "['ACC' 'CON' 'FIN' 'INT' 'NRS' 'REQ' 'RST' 'URP']\n",
            "['HTTP' 'Normal' 'TCP' 'UDP']\n"
          ],
          "name": "stdout"
        }
      ]
    },
    {
      "cell_type": "code",
      "metadata": {
        "id": "2qTTjhPMejml",
        "colab_type": "code",
        "colab": {
          "base_uri": "https://localhost:8080/",
          "height": 125
        },
        "outputId": "c2f3d397-34ea-48ae-af4e-270af974a241"
      },
      "source": [
        "dataset['proto'].value_counts()"
      ],
      "execution_count": null,
      "outputs": [
        {
          "output_type": "execute_result",
          "data": {
            "text/plain": [
              "tcp          978397\n",
              "udp          948598\n",
              "arp              82\n",
              "icmp             16\n",
              "ipv6-icmp         8\n",
              "Name: proto, dtype: int64"
            ]
          },
          "metadata": {
            "tags": []
          },
          "execution_count": 38
        }
      ]
    },
    {
      "cell_type": "code",
      "metadata": {
        "id": "TMRL50BP8jSy",
        "colab_type": "code",
        "colab": {}
      },
      "source": [
        "from sklearn.preprocessing import LabelEncoder, OneHotEncoder\n",
        "\n",
        "labelencoder_x_1 = LabelEncoder() #proto\n",
        "labelencoder_x_2 = LabelEncoder() #state\n",
        "labelencoder_x_3 = LabelEncoder() #subcategory\n",
        "\n",
        "x[:, 3] = labelencoder_x_1.fit_transform(x[:,3]) #proto\n",
        "x[:, 9] = labelencoder_x_2.fit_transform(x[:,9]) #state\n",
        "x[:, 40] = labelencoder_x_3.fit_transform(x[:,40]) #subcategory\n",
        "\n",
        "labelencoder_y=LabelEncoder() #category\n",
        "y = labelencoder_y.fit_transform(y)  #category"
      ],
      "execution_count": null,
      "outputs": []
    },
    {
      "cell_type": "code",
      "metadata": {
        "id": "BbW-TVs0-C1n",
        "colab_type": "code",
        "colab": {}
      },
      "source": [
        "# x, y를 데이터프레임으로 변환 \n",
        "dfX = pd.DataFrame(x, columns = [ 'pkSeqID',\t'stime',\t'flgs_number',\t'proto',\t'proto_number',\t'sport', 'dport',\t'pkts',\t\n",
        "                                 'bytes',\t'state',\t'state_number',\t'ltime',\t'seq',\t'dur',\t'mean',\t'stddev',\t'sum',\t'min',\t'max',\t'spkts',\t'dpkts',\t\n",
        "                                 'sbytes',\t'dbytes',\t'rate',\t'srate',\t'drate',\t'TnBPSrcIP',\t'TnBPDstIP',\t'TnP_PSrcIP',\t'TnP_PDstIP',\t'TnP_PerProto',\t\n",
        "                                 'TnP_Per_Dport',\t'AR_P_Proto_P_SrcIP',\t'AR_P_Proto_P_DstIP',\t'N_IN_Conn_P_DstIP',\t'N_IN_Conn_P_SrcIP',\t\n",
        "                                 'AR_P_Proto_P_Sport',\t'AR_P_Proto_P_Dport',\t'Pkts_P_State_P_Protocol_P_DestIP',\t\n",
        "                                 'Pkts_P_State_P_Protocol_P_SrcIP',\t'attack',\t'subcategory']) \n",
        "                                 \n",
        "\n",
        "dfY = pd.DataFrame(y, columns= ['category'])"
      ],
      "execution_count": null,
      "outputs": []
    },
    {
      "cell_type": "markdown",
      "metadata": {
        "id": "6Snmg2GWrAhl",
        "colab_type": "text"
      },
      "source": [
        ""
      ]
    },
    {
      "cell_type": "code",
      "metadata": {
        "id": "SVrNiP5V-hwi",
        "colab_type": "code",
        "colab": {
          "base_uri": "https://localhost:8080/",
          "height": 394
        },
        "outputId": "37c663cd-ca18-41f3-9aeb-b09aa2e1e407"
      },
      "source": [
        "from sklearn.ensemble import RandomForestClassifier\n",
        "from sklearn.ensemble import RandomForestRegressor\n",
        "\n",
        "rfc = RandomForestRegressor();\n",
        "\n",
        "# 학습 데이터셋에 random forest classitier 적용\n",
        "rfc.fit(dfX, dfY);\n",
        "\n",
        "# 영향령이 높은 feature 추출\n",
        "score = np.round(rfc.feautre_importances_,3)\n",
        "importances = pd.DataFrame({'feature':dfX.columns, 'importance':score})\n",
        "importances = importances.sort_values('importances',ascending=False).set_index('feature')"
      ],
      "execution_count": null,
      "outputs": [
        {
          "output_type": "error",
          "ename": "ValueError",
          "evalue": "ignored",
          "traceback": [
            "\u001b[0;31m---------------------------------------------------------------------------\u001b[0m",
            "\u001b[0;31mValueError\u001b[0m                                Traceback (most recent call last)",
            "\u001b[0;32m<ipython-input-49-34e370016079>\u001b[0m in \u001b[0;36m<module>\u001b[0;34m()\u001b[0m\n\u001b[1;32m      5\u001b[0m \u001b[0;34m\u001b[0m\u001b[0m\n\u001b[1;32m      6\u001b[0m \u001b[0;31m# 학습 데이터셋에 random forest classitier 적용\u001b[0m\u001b[0;34m\u001b[0m\u001b[0;34m\u001b[0m\u001b[0;34m\u001b[0m\u001b[0m\n\u001b[0;32m----> 7\u001b[0;31m \u001b[0mrfc\u001b[0m\u001b[0;34m.\u001b[0m\u001b[0mfit\u001b[0m\u001b[0;34m(\u001b[0m\u001b[0mdfX\u001b[0m\u001b[0;34m,\u001b[0m \u001b[0mdfY\u001b[0m\u001b[0;34m)\u001b[0m\u001b[0;34m;\u001b[0m\u001b[0;34m\u001b[0m\u001b[0;34m\u001b[0m\u001b[0m\n\u001b[0m\u001b[1;32m      8\u001b[0m \u001b[0;34m\u001b[0m\u001b[0m\n\u001b[1;32m      9\u001b[0m \u001b[0;31m# 영향령이 높은 feature 추출\u001b[0m\u001b[0;34m\u001b[0m\u001b[0;34m\u001b[0m\u001b[0;34m\u001b[0m\u001b[0m\n",
            "\u001b[0;32m/usr/local/lib/python3.6/dist-packages/sklearn/ensemble/_forest.py\u001b[0m in \u001b[0;36mfit\u001b[0;34m(self, X, y, sample_weight)\u001b[0m\n\u001b[1;32m    293\u001b[0m         \"\"\"\n\u001b[1;32m    294\u001b[0m         \u001b[0;31m# Validate or convert input data\u001b[0m\u001b[0;34m\u001b[0m\u001b[0;34m\u001b[0m\u001b[0;34m\u001b[0m\u001b[0m\n\u001b[0;32m--> 295\u001b[0;31m         \u001b[0mX\u001b[0m \u001b[0;34m=\u001b[0m \u001b[0mcheck_array\u001b[0m\u001b[0;34m(\u001b[0m\u001b[0mX\u001b[0m\u001b[0;34m,\u001b[0m \u001b[0maccept_sparse\u001b[0m\u001b[0;34m=\u001b[0m\u001b[0;34m\"csc\"\u001b[0m\u001b[0;34m,\u001b[0m \u001b[0mdtype\u001b[0m\u001b[0;34m=\u001b[0m\u001b[0mDTYPE\u001b[0m\u001b[0;34m)\u001b[0m\u001b[0;34m\u001b[0m\u001b[0;34m\u001b[0m\u001b[0m\n\u001b[0m\u001b[1;32m    296\u001b[0m         \u001b[0my\u001b[0m \u001b[0;34m=\u001b[0m \u001b[0mcheck_array\u001b[0m\u001b[0;34m(\u001b[0m\u001b[0my\u001b[0m\u001b[0;34m,\u001b[0m \u001b[0maccept_sparse\u001b[0m\u001b[0;34m=\u001b[0m\u001b[0;34m'csc'\u001b[0m\u001b[0;34m,\u001b[0m \u001b[0mensure_2d\u001b[0m\u001b[0;34m=\u001b[0m\u001b[0;32mFalse\u001b[0m\u001b[0;34m,\u001b[0m \u001b[0mdtype\u001b[0m\u001b[0;34m=\u001b[0m\u001b[0;32mNone\u001b[0m\u001b[0;34m)\u001b[0m\u001b[0;34m\u001b[0m\u001b[0;34m\u001b[0m\u001b[0m\n\u001b[1;32m    297\u001b[0m         \u001b[0;32mif\u001b[0m \u001b[0msample_weight\u001b[0m \u001b[0;32mis\u001b[0m \u001b[0;32mnot\u001b[0m \u001b[0;32mNone\u001b[0m\u001b[0;34m:\u001b[0m\u001b[0;34m\u001b[0m\u001b[0;34m\u001b[0m\u001b[0m\n",
            "\u001b[0;32m/usr/local/lib/python3.6/dist-packages/sklearn/utils/validation.py\u001b[0m in \u001b[0;36mcheck_array\u001b[0;34m(array, accept_sparse, accept_large_sparse, dtype, order, copy, force_all_finite, ensure_2d, allow_nd, ensure_min_samples, ensure_min_features, warn_on_dtype, estimator)\u001b[0m\n\u001b[1;32m    529\u001b[0m                     \u001b[0marray\u001b[0m \u001b[0;34m=\u001b[0m \u001b[0marray\u001b[0m\u001b[0;34m.\u001b[0m\u001b[0mastype\u001b[0m\u001b[0;34m(\u001b[0m\u001b[0mdtype\u001b[0m\u001b[0;34m,\u001b[0m \u001b[0mcasting\u001b[0m\u001b[0;34m=\u001b[0m\u001b[0;34m\"unsafe\"\u001b[0m\u001b[0;34m,\u001b[0m \u001b[0mcopy\u001b[0m\u001b[0;34m=\u001b[0m\u001b[0;32mFalse\u001b[0m\u001b[0;34m)\u001b[0m\u001b[0;34m\u001b[0m\u001b[0;34m\u001b[0m\u001b[0m\n\u001b[1;32m    530\u001b[0m                 \u001b[0;32melse\u001b[0m\u001b[0;34m:\u001b[0m\u001b[0;34m\u001b[0m\u001b[0;34m\u001b[0m\u001b[0m\n\u001b[0;32m--> 531\u001b[0;31m                     \u001b[0marray\u001b[0m \u001b[0;34m=\u001b[0m \u001b[0mnp\u001b[0m\u001b[0;34m.\u001b[0m\u001b[0masarray\u001b[0m\u001b[0;34m(\u001b[0m\u001b[0marray\u001b[0m\u001b[0;34m,\u001b[0m \u001b[0morder\u001b[0m\u001b[0;34m=\u001b[0m\u001b[0morder\u001b[0m\u001b[0;34m,\u001b[0m \u001b[0mdtype\u001b[0m\u001b[0;34m=\u001b[0m\u001b[0mdtype\u001b[0m\u001b[0;34m)\u001b[0m\u001b[0;34m\u001b[0m\u001b[0;34m\u001b[0m\u001b[0m\n\u001b[0m\u001b[1;32m    532\u001b[0m             \u001b[0;32mexcept\u001b[0m \u001b[0mComplexWarning\u001b[0m\u001b[0;34m:\u001b[0m\u001b[0;34m\u001b[0m\u001b[0;34m\u001b[0m\u001b[0m\n\u001b[1;32m    533\u001b[0m                 raise ValueError(\"Complex data not supported\\n\"\n",
            "\u001b[0;32m/usr/local/lib/python3.6/dist-packages/numpy/core/_asarray.py\u001b[0m in \u001b[0;36masarray\u001b[0;34m(a, dtype, order)\u001b[0m\n\u001b[1;32m     83\u001b[0m \u001b[0;34m\u001b[0m\u001b[0m\n\u001b[1;32m     84\u001b[0m     \"\"\"\n\u001b[0;32m---> 85\u001b[0;31m     \u001b[0;32mreturn\u001b[0m \u001b[0marray\u001b[0m\u001b[0;34m(\u001b[0m\u001b[0ma\u001b[0m\u001b[0;34m,\u001b[0m \u001b[0mdtype\u001b[0m\u001b[0;34m,\u001b[0m \u001b[0mcopy\u001b[0m\u001b[0;34m=\u001b[0m\u001b[0;32mFalse\u001b[0m\u001b[0;34m,\u001b[0m \u001b[0morder\u001b[0m\u001b[0;34m=\u001b[0m\u001b[0morder\u001b[0m\u001b[0;34m)\u001b[0m\u001b[0;34m\u001b[0m\u001b[0;34m\u001b[0m\u001b[0m\n\u001b[0m\u001b[1;32m     86\u001b[0m \u001b[0;34m\u001b[0m\u001b[0m\n\u001b[1;32m     87\u001b[0m \u001b[0;34m\u001b[0m\u001b[0m\n",
            "\u001b[0;31mValueError\u001b[0m: could not convert string to float: '0x0303'"
          ]
        }
      ]
    },
    {
      "cell_type": "code",
      "metadata": {
        "id": "tWxcnKTaDGkx",
        "colab_type": "code",
        "colab": {
          "base_uri": "https://localhost:8080/",
          "height": 208
        },
        "outputId": "e4cb0870-a7a8-40af-db37-14c1bf1edff9"
      },
      "source": [
        "plt.rcParams['figure.figsize'] = (11, 4)\n",
        "importances.plot.bar();"
      ],
      "execution_count": null,
      "outputs": [
        {
          "output_type": "error",
          "ename": "NameError",
          "evalue": "ignored",
          "traceback": [
            "\u001b[0;31m---------------------------------------------------------------------------\u001b[0m",
            "\u001b[0;31mNameError\u001b[0m                                 Traceback (most recent call last)",
            "\u001b[0;32m<ipython-input-1-e158f40922d3>\u001b[0m in \u001b[0;36m<module>\u001b[0;34m()\u001b[0m\n\u001b[1;32m      6\u001b[0m \u001b[0;34m\u001b[0m\u001b[0m\n\u001b[1;32m      7\u001b[0m \u001b[0mplt\u001b[0m\u001b[0;34m.\u001b[0m\u001b[0mrcParams\u001b[0m\u001b[0;34m[\u001b[0m\u001b[0;34m'figure.figsize'\u001b[0m\u001b[0;34m]\u001b[0m \u001b[0;34m=\u001b[0m \u001b[0;34m(\u001b[0m\u001b[0;36m11\u001b[0m\u001b[0;34m,\u001b[0m \u001b[0;36m4\u001b[0m\u001b[0;34m)\u001b[0m\u001b[0;34m\u001b[0m\u001b[0;34m\u001b[0m\u001b[0m\n\u001b[0;32m----> 8\u001b[0;31m \u001b[0mimportances\u001b[0m\u001b[0;34m.\u001b[0m\u001b[0mplot\u001b[0m\u001b[0;34m.\u001b[0m\u001b[0mbar\u001b[0m\u001b[0;34m(\u001b[0m\u001b[0;34m)\u001b[0m\u001b[0;34m;\u001b[0m\u001b[0;34m\u001b[0m\u001b[0;34m\u001b[0m\u001b[0m\n\u001b[0m",
            "\u001b[0;31mNameError\u001b[0m: name 'importances' is not defined"
          ]
        }
      ]
    }
  ]
}